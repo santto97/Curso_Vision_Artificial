{
 "cells": [
  {
   "cell_type": "markdown",
   "metadata": {},
   "source": [
    "# Practica 1: Adquisición e introducción a los Espacios de Color"
   ]
  },
  {
   "cell_type": "markdown",
   "metadata": {},
   "source": [
    "Bienvenidos al primer taller en clase de Visión Artificial.\n",
    "\n",
    "En este módulo se busca resaltar la capacidad y creatividad del estudiante para adquiririr y pre-procesar la información contenida en una imagen.\n",
    "\n",
    "Existen algunas reglas que deben tenerse en cuenta en el proceso de adquisición.\n",
    "\n",
    "## 1. La información que no esté contenida en la imagen, no puede analizarse.\n",
    "\n",
    "Esto, en esencia, significa que aquello que no pueda captarse con el sensor, es imposible de procesar con técnicas de Visión Artificial tradicional.\n",
    "\n",
    "## 2. Una buena adquisición, soluciona muchos problemas de procesamiento.\n",
    "\n",
    "Efectivamente, un correcto proceso de adquisición puede ahorrar pasos significativos en el procesamiento digital de imágenes, factores como la iluminación pueden afectar la separación por espacios de color del objeto estudio. Por tanto, un buen sensor y la creatividad son un factor fundamental.\n",
    "\n",
    "## 3. Las imágenes no siempre son lo que esperamos.\n",
    "\n",
    "No en todos los problemas de Visión Artificial podremos adquirir imágenes, claramente, muchos problemas en el medio ya tienen datos asociados (e.g un dataset con 10000 imágenes de melanomas), sin embargo,  en el caso particular, usted podrá disponer de todas las imágenes que desee, facilitando (o dificultando) el proceso de separación de la información útil.\n",
    "\n",
    "## 4. La adquisición no solamente es tomar una o varias fotografías.\n",
    "\n",
    "En muchos problemas de Visión Artificial en el medio, el proceso de adquisición también compende un conjunto de habilidades sociales para reconocer cuál es el verdadero problema que se busca atacar, recordemos que el análisis digital de imágenes es ampliamente utilizado para automatización de procesos, donde, claramente muchos individuos clasifican y distinguen muestras consideradas \"buenas\" de \"malas\" con su experiencia personal, cuestiones que, no pueden traducirse fácilmente al mundo digital.\n",
    "\n",
    "<img src = \"res/taking.jpg\" width = 400x>"
   ]
  },
  {
   "cell_type": "markdown",
   "metadata": {},
   "source": [
    "## Módulo de Adquisición.\n",
    "\n",
    "### Todas las imágenes deben guardarse en la carpeta \"res\".\n",
    "\n",
    "<br><b> Materiales: </b></br>\n",
    "<br> Una cámara (celular, profesional, semiprofesional, etc.) </br>\n",
    "<br> Elementos de estudio.</br>\n",
    "<br> Una linterna o una fuente de iluminación diferente al flash o la lámpara del aula de trabajo. </br>\n",
    "<br> Una caja de cartón, bisturí o tijeras </br>"
   ]
  },
  {
   "cell_type": "code",
   "execution_count": null,
   "metadata": {},
   "outputs": [],
   "source": [
    "###Espacio para importar las librerías###\n",
    "\n",
    "#Magic para mostrar imágenes en Jupyter usando matplotlib\n",
    "%matplotlib inline \n",
    "\n",
    "import numpy as np\n",
    "import cv2\n",
    "import matplotlib.pyplot as plt"
   ]
  },
  {
   "cell_type": "markdown",
   "metadata": {},
   "source": [
    "## Actividad 1."
   ]
  },
  {
   "cell_type": "markdown",
   "metadata": {},
   "source": [
    "Realice un proceso de adquisición de la imagen, utilizando como objetivo el/los objetos disponibles. \n",
    "<br> Recuerde que un factor fundamental en la toma de imágenes y su posterior estudio, es el manejo de la luz en la misma. Por lo tanto, debe tomar fotografías bajo las siguientes premisas: </br>\n",
    "\n",
    "<br><b>1.</b></br> El objeto bajo la iluminación del aula, el ambiente \"natural\", <b>con</b> y <b>sin</b> flash.\n",
    "<br><b>2.</b></br> El objeto a contraluz, utilizando como fuente la iluminación del aula.\n",
    "<br><b>3.</b></br> Iluminar el objeto con la fuente de iluminación externa (puede ser la linterna de otro celular), desde distintos ángulos. Realice el proceso de adquisición <b>con</b> y <b>sin</b> flash. Intente una toma a contraluz, pero esta vez la fuente de iluminación es la externa.\n",
    "<br><b>4.</b></br> Sin una fuente de iluminación, lo más oscuro posible, <b>con</b> y <b>sin</b> flash.\n",
    "<br><b>5.</b></br> Realice el montaje con la caja de cartón indicado en clase.\n",
    "<br><b>6.</b></br> Intente segmentar la región reto del objeto específico.\n",
    "\n",
    "Utilice OpenCv y matplotlib para leer y mostrar las imágenes respectivamente, en el espacio de color RGB.\n",
    "\n",
    "<b> Recuerde que OpenCv lee las imágenes en BGR, por tanto debe convertirlas a RGB </b>"
   ]
  },
  {
   "cell_type": "code",
   "execution_count": null,
   "metadata": {},
   "outputs": [],
   "source": [
    "###Escriba el código aquí###"
   ]
  },
  {
   "cell_type": "markdown",
   "metadata": {},
   "source": [
    "## Actividad 2."
   ]
  },
  {
   "cell_type": "markdown",
   "metadata": {},
   "source": [
    "Separe y muestre las imágenes en los canales R,G,B del espacio de color RGB. Realice el mismo proceso para el espacio de color LAB, mostrando los canales L,A y B* respectivamente. ¿En qué canal se observa más fácilmente el objeto de estudio? ¿Depende esto de la fotografía que se estudie? Justifique."
   ]
  },
  {
   "cell_type": "code",
   "execution_count": null,
   "metadata": {},
   "outputs": [],
   "source": [
    "###Escriba el código aquí###"
   ]
  },
  {
   "cell_type": "markdown",
   "metadata": {},
   "source": [
    "## Actividad 3."
   ]
  },
  {
   "cell_type": "markdown",
   "metadata": {},
   "source": [
    "Una vez escogida la imagen donde mejor se puede apreciar el objeto, en el canal del espacio de color respectivo, ¿Puede separar usted el objeto del fondo?\n",
    "<br> Genere una segmentación de tipo binario y analice. </br>"
   ]
  },
  {
   "cell_type": "code",
   "execution_count": null,
   "metadata": {},
   "outputs": [],
   "source": [
    "###Escriba el código aquí###"
   ]
  }
 ],
 "metadata": {
  "kernelspec": {
   "display_name": "Python 2",
   "language": "python",
   "name": "python2"
  },
  "language_info": {
   "codemirror_mode": {
    "name": "ipython",
    "version": 2
   },
   "file_extension": ".py",
   "mimetype": "text/x-python",
   "name": "python",
   "nbconvert_exporter": "python",
   "pygments_lexer": "ipython2",
   "version": "2.7.16"
  }
 },
 "nbformat": 4,
 "nbformat_minor": 2
}
